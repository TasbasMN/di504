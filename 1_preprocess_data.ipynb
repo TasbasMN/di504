{
 "cells": [
  {
   "cell_type": "code",
   "execution_count": 1,
   "metadata": {},
   "outputs": [],
   "source": [
    "import pandas as pd\n"
   ]
  },
  {
   "cell_type": "code",
   "execution_count": 2,
   "metadata": {},
   "outputs": [],
   "source": [
    "df = pd.read_csv(\"data/disease.txt\", sep=\"\\t\")\n",
    "df = (df[[\"miRNA\", \"disease\", \"description\"]]\n",
    "      .rename(columns={\"miRNA\": \"name\"})\n",
    "      .loc[lambda x: x.name.str.startswith(\"hsa-\")]\n",
    "      .assign(name=lambda x: x.name.str.replace(\"mir\", \"miR\")))\n"
   ]
  },
  {
   "cell_type": "code",
   "execution_count": 3,
   "metadata": {},
   "outputs": [
    {
     "data": {
      "text/html": [
       "<div>\n",
       "<style scoped>\n",
       "    .dataframe tbody tr th:only-of-type {\n",
       "        vertical-align: middle;\n",
       "    }\n",
       "\n",
       "    .dataframe tbody tr th {\n",
       "        vertical-align: top;\n",
       "    }\n",
       "\n",
       "    .dataframe thead th {\n",
       "        text-align: right;\n",
       "    }\n",
       "</style>\n",
       "<table border=\"1\" class=\"dataframe\">\n",
       "  <thead>\n",
       "    <tr style=\"text-align: right;\">\n",
       "      <th></th>\n",
       "      <th>name</th>\n",
       "      <th>disease</th>\n",
       "      <th>description</th>\n",
       "    </tr>\n",
       "  </thead>\n",
       "  <tbody>\n",
       "    <tr>\n",
       "      <th>0</th>\n",
       "      <td>hsa-miR-40</td>\n",
       "      <td>Liver Cirrhosis</td>\n",
       "      <td>MiR-340 mediates the involvement of high mobil...</td>\n",
       "    </tr>\n",
       "    <tr>\n",
       "      <th>1</th>\n",
       "      <td>hsa-miR-29b</td>\n",
       "      <td>Zika Virus Infection</td>\n",
       "      <td>Zika virus NS1 suppresses VE-cadherin via hsa-...</td>\n",
       "    </tr>\n",
       "    <tr>\n",
       "      <th>2</th>\n",
       "      <td>hsa-miR-130b</td>\n",
       "      <td>Wound Healing</td>\n",
       "      <td>ADSCs-derived exosomal H19 accelerates cutaneo...</td>\n",
       "    </tr>\n",
       "    <tr>\n",
       "      <th>3</th>\n",
       "      <td>hsa-miR-221</td>\n",
       "      <td>Stomach Neoplasms</td>\n",
       "      <td>Downregulation of miR-221-3p promotes the ferr...</td>\n",
       "    </tr>\n",
       "    <tr>\n",
       "      <th>4</th>\n",
       "      <td>hsa-miR-497</td>\n",
       "      <td>Pancreatic Neoplasms</td>\n",
       "      <td>Long noncoding RNA CASC9 promotes pancreatic c...</td>\n",
       "    </tr>\n",
       "  </tbody>\n",
       "</table>\n",
       "</div>"
      ],
      "text/plain": [
       "           name               disease  \\\n",
       "0    hsa-miR-40       Liver Cirrhosis   \n",
       "1   hsa-miR-29b  Zika Virus Infection   \n",
       "2  hsa-miR-130b         Wound Healing   \n",
       "3   hsa-miR-221     Stomach Neoplasms   \n",
       "4   hsa-miR-497  Pancreatic Neoplasms   \n",
       "\n",
       "                                         description  \n",
       "0  MiR-340 mediates the involvement of high mobil...  \n",
       "1  Zika virus NS1 suppresses VE-cadherin via hsa-...  \n",
       "2  ADSCs-derived exosomal H19 accelerates cutaneo...  \n",
       "3  Downregulation of miR-221-3p promotes the ferr...  \n",
       "4  Long noncoding RNA CASC9 promotes pancreatic c...  "
      ]
     },
     "execution_count": 3,
     "metadata": {},
     "output_type": "execute_result"
    }
   ],
   "source": [
    "df.head()"
   ]
  },
  {
   "cell_type": "code",
   "execution_count": 4,
   "metadata": {},
   "outputs": [
    {
     "data": {
      "text/plain": [
       "description\n",
       "True     30724\n",
       "False    22651\n",
       "Name: count, dtype: int64"
      ]
     },
     "execution_count": 4,
     "metadata": {},
     "output_type": "execute_result"
    }
   ],
   "source": [
    "df.description.str.contains(\"miR-\").value_counts()\n",
    "\n"
   ]
  },
  {
   "cell_type": "code",
   "execution_count": 5,
   "metadata": {},
   "outputs": [
    {
     "data": {
      "text/html": [
       "<div>\n",
       "<style scoped>\n",
       "    .dataframe tbody tr th:only-of-type {\n",
       "        vertical-align: middle;\n",
       "    }\n",
       "\n",
       "    .dataframe tbody tr th {\n",
       "        vertical-align: top;\n",
       "    }\n",
       "\n",
       "    .dataframe thead th {\n",
       "        text-align: right;\n",
       "    }\n",
       "</style>\n",
       "<table border=\"1\" class=\"dataframe\">\n",
       "  <thead>\n",
       "    <tr style=\"text-align: right;\">\n",
       "      <th></th>\n",
       "      <th>name</th>\n",
       "      <th>disease</th>\n",
       "      <th>description</th>\n",
       "      <th>miR_words</th>\n",
       "    </tr>\n",
       "  </thead>\n",
       "  <tbody>\n",
       "    <tr>\n",
       "      <th>0</th>\n",
       "      <td>hsa-miR-40</td>\n",
       "      <td>Liver Cirrhosis</td>\n",
       "      <td>MiR-340 mediates the involvement of high mobil...</td>\n",
       "      <td>NaN</td>\n",
       "    </tr>\n",
       "    <tr>\n",
       "      <th>1</th>\n",
       "      <td>hsa-miR-29b</td>\n",
       "      <td>Zika Virus Infection</td>\n",
       "      <td>Zika virus NS1 suppresses VE-cadherin via hsa-...</td>\n",
       "      <td>miR-29b-3p</td>\n",
       "    </tr>\n",
       "    <tr>\n",
       "      <th>2</th>\n",
       "      <td>hsa-miR-130b</td>\n",
       "      <td>Wound Healing</td>\n",
       "      <td>ADSCs-derived exosomal H19 accelerates cutaneo...</td>\n",
       "      <td>miR-130b-3p</td>\n",
       "    </tr>\n",
       "    <tr>\n",
       "      <th>3</th>\n",
       "      <td>hsa-miR-221</td>\n",
       "      <td>Stomach Neoplasms</td>\n",
       "      <td>Downregulation of miR-221-3p promotes the ferr...</td>\n",
       "      <td>miR-221-3p</td>\n",
       "    </tr>\n",
       "    <tr>\n",
       "      <th>4</th>\n",
       "      <td>hsa-miR-497</td>\n",
       "      <td>Pancreatic Neoplasms</td>\n",
       "      <td>Long noncoding RNA CASC9 promotes pancreatic c...</td>\n",
       "      <td>miR-497-5p</td>\n",
       "    </tr>\n",
       "  </tbody>\n",
       "</table>\n",
       "</div>"
      ],
      "text/plain": [
       "           name               disease  \\\n",
       "0    hsa-miR-40       Liver Cirrhosis   \n",
       "1   hsa-miR-29b  Zika Virus Infection   \n",
       "2  hsa-miR-130b         Wound Healing   \n",
       "3   hsa-miR-221     Stomach Neoplasms   \n",
       "4   hsa-miR-497  Pancreatic Neoplasms   \n",
       "\n",
       "                                         description    miR_words  \n",
       "0  MiR-340 mediates the involvement of high mobil...          NaN  \n",
       "1  Zika virus NS1 suppresses VE-cadherin via hsa-...   miR-29b-3p  \n",
       "2  ADSCs-derived exosomal H19 accelerates cutaneo...  miR-130b-3p  \n",
       "3  Downregulation of miR-221-3p promotes the ferr...   miR-221-3p  \n",
       "4  Long noncoding RNA CASC9 promotes pancreatic c...   miR-497-5p  "
      ]
     },
     "execution_count": 5,
     "metadata": {},
     "output_type": "execute_result"
    }
   ],
   "source": [
    "df['miR_words'] = df['description'].str.extract(r'\\b(miR-\\w+(?:-\\w+)*-\\w+)\\b')\n",
    "\n",
    "df.head()"
   ]
  },
  {
   "cell_type": "code",
   "execution_count": 6,
   "metadata": {},
   "outputs": [
    {
     "data": {
      "text/html": [
       "<div>\n",
       "<style scoped>\n",
       "    .dataframe tbody tr th:only-of-type {\n",
       "        vertical-align: middle;\n",
       "    }\n",
       "\n",
       "    .dataframe tbody tr th {\n",
       "        vertical-align: top;\n",
       "    }\n",
       "\n",
       "    .dataframe thead th {\n",
       "        text-align: right;\n",
       "    }\n",
       "</style>\n",
       "<table border=\"1\" class=\"dataframe\">\n",
       "  <thead>\n",
       "    <tr style=\"text-align: right;\">\n",
       "      <th></th>\n",
       "      <th>name</th>\n",
       "      <th>disease</th>\n",
       "      <th>description</th>\n",
       "      <th>miR_words</th>\n",
       "    </tr>\n",
       "  </thead>\n",
       "  <tbody>\n",
       "    <tr>\n",
       "      <th>0</th>\n",
       "      <td>hsa-miR-40</td>\n",
       "      <td>Liver Cirrhosis</td>\n",
       "      <td>MiR-340 mediates the involvement of high mobil...</td>\n",
       "      <td>NaN</td>\n",
       "    </tr>\n",
       "    <tr>\n",
       "      <th>1</th>\n",
       "      <td>hsa-miR-29b</td>\n",
       "      <td>Zika Virus Infection</td>\n",
       "      <td>Zika virus NS1 suppresses VE-cadherin via hsa-...</td>\n",
       "      <td>hsa-miR-29b-3p</td>\n",
       "    </tr>\n",
       "    <tr>\n",
       "      <th>2</th>\n",
       "      <td>hsa-miR-130b</td>\n",
       "      <td>Wound Healing</td>\n",
       "      <td>ADSCs-derived exosomal H19 accelerates cutaneo...</td>\n",
       "      <td>hsa-miR-130b-3p</td>\n",
       "    </tr>\n",
       "    <tr>\n",
       "      <th>3</th>\n",
       "      <td>hsa-miR-221</td>\n",
       "      <td>Stomach Neoplasms</td>\n",
       "      <td>Downregulation of miR-221-3p promotes the ferr...</td>\n",
       "      <td>hsa-miR-221-3p</td>\n",
       "    </tr>\n",
       "    <tr>\n",
       "      <th>4</th>\n",
       "      <td>hsa-miR-497</td>\n",
       "      <td>Pancreatic Neoplasms</td>\n",
       "      <td>Long noncoding RNA CASC9 promotes pancreatic c...</td>\n",
       "      <td>hsa-miR-497-5p</td>\n",
       "    </tr>\n",
       "  </tbody>\n",
       "</table>\n",
       "</div>"
      ],
      "text/plain": [
       "           name               disease  \\\n",
       "0    hsa-miR-40       Liver Cirrhosis   \n",
       "1   hsa-miR-29b  Zika Virus Infection   \n",
       "2  hsa-miR-130b         Wound Healing   \n",
       "3   hsa-miR-221     Stomach Neoplasms   \n",
       "4   hsa-miR-497  Pancreatic Neoplasms   \n",
       "\n",
       "                                         description        miR_words  \n",
       "0  MiR-340 mediates the involvement of high mobil...              NaN  \n",
       "1  Zika virus NS1 suppresses VE-cadherin via hsa-...   hsa-miR-29b-3p  \n",
       "2  ADSCs-derived exosomal H19 accelerates cutaneo...  hsa-miR-130b-3p  \n",
       "3  Downregulation of miR-221-3p promotes the ferr...   hsa-miR-221-3p  \n",
       "4  Long noncoding RNA CASC9 promotes pancreatic c...   hsa-miR-497-5p  "
      ]
     },
     "execution_count": 6,
     "metadata": {},
     "output_type": "execute_result"
    }
   ],
   "source": [
    "df[\"miR_words\"] = df[\"miR_words\"].apply(lambda x: f'hsa-{x}' if pd.notna(x) else x)\n",
    "\n",
    "df.head()"
   ]
  },
  {
   "cell_type": "code",
   "execution_count": 7,
   "metadata": {},
   "outputs": [
    {
     "data": {
      "text/html": [
       "<div>\n",
       "<style scoped>\n",
       "    .dataframe tbody tr th:only-of-type {\n",
       "        vertical-align: middle;\n",
       "    }\n",
       "\n",
       "    .dataframe tbody tr th {\n",
       "        vertical-align: top;\n",
       "    }\n",
       "\n",
       "    .dataframe thead th {\n",
       "        text-align: right;\n",
       "    }\n",
       "</style>\n",
       "<table border=\"1\" class=\"dataframe\">\n",
       "  <thead>\n",
       "    <tr style=\"text-align: right;\">\n",
       "      <th></th>\n",
       "      <th>name</th>\n",
       "      <th>disease</th>\n",
       "      <th>description</th>\n",
       "      <th>miR_words</th>\n",
       "    </tr>\n",
       "  </thead>\n",
       "  <tbody>\n",
       "    <tr>\n",
       "      <th>0</th>\n",
       "      <td>hsa-miR-40</td>\n",
       "      <td>Liver Cirrhosis</td>\n",
       "      <td>MiR-340 mediates the involvement of high mobil...</td>\n",
       "      <td>NaN</td>\n",
       "    </tr>\n",
       "    <tr>\n",
       "      <th>1</th>\n",
       "      <td>hsa-miR-29b-3p</td>\n",
       "      <td>Zika Virus Infection</td>\n",
       "      <td>Zika virus NS1 suppresses VE-cadherin via hsa-...</td>\n",
       "      <td>hsa-miR-29b-3p</td>\n",
       "    </tr>\n",
       "    <tr>\n",
       "      <th>2</th>\n",
       "      <td>hsa-miR-130b-3p</td>\n",
       "      <td>Wound Healing</td>\n",
       "      <td>ADSCs-derived exosomal H19 accelerates cutaneo...</td>\n",
       "      <td>hsa-miR-130b-3p</td>\n",
       "    </tr>\n",
       "    <tr>\n",
       "      <th>3</th>\n",
       "      <td>hsa-miR-221-3p</td>\n",
       "      <td>Stomach Neoplasms</td>\n",
       "      <td>Downregulation of miR-221-3p promotes the ferr...</td>\n",
       "      <td>hsa-miR-221-3p</td>\n",
       "    </tr>\n",
       "    <tr>\n",
       "      <th>4</th>\n",
       "      <td>hsa-miR-497-5p</td>\n",
       "      <td>Pancreatic Neoplasms</td>\n",
       "      <td>Long noncoding RNA CASC9 promotes pancreatic c...</td>\n",
       "      <td>hsa-miR-497-5p</td>\n",
       "    </tr>\n",
       "  </tbody>\n",
       "</table>\n",
       "</div>"
      ],
      "text/plain": [
       "              name               disease  \\\n",
       "0       hsa-miR-40       Liver Cirrhosis   \n",
       "1   hsa-miR-29b-3p  Zika Virus Infection   \n",
       "2  hsa-miR-130b-3p         Wound Healing   \n",
       "3   hsa-miR-221-3p     Stomach Neoplasms   \n",
       "4   hsa-miR-497-5p  Pancreatic Neoplasms   \n",
       "\n",
       "                                         description        miR_words  \n",
       "0  MiR-340 mediates the involvement of high mobil...              NaN  \n",
       "1  Zika virus NS1 suppresses VE-cadherin via hsa-...   hsa-miR-29b-3p  \n",
       "2  ADSCs-derived exosomal H19 accelerates cutaneo...  hsa-miR-130b-3p  \n",
       "3  Downregulation of miR-221-3p promotes the ferr...   hsa-miR-221-3p  \n",
       "4  Long noncoding RNA CASC9 promotes pancreatic c...   hsa-miR-497-5p  "
      ]
     },
     "execution_count": 7,
     "metadata": {},
     "output_type": "execute_result"
    }
   ],
   "source": [
    "df['name'] = df['miR_words'].where(df['miR_words'].notna(), df['name'])\n",
    "\n",
    "df.head()"
   ]
  },
  {
   "cell_type": "code",
   "execution_count": 8,
   "metadata": {},
   "outputs": [
    {
     "data": {
      "text/html": [
       "<div>\n",
       "<style scoped>\n",
       "    .dataframe tbody tr th:only-of-type {\n",
       "        vertical-align: middle;\n",
       "    }\n",
       "\n",
       "    .dataframe tbody tr th {\n",
       "        vertical-align: top;\n",
       "    }\n",
       "\n",
       "    .dataframe thead th {\n",
       "        text-align: right;\n",
       "    }\n",
       "</style>\n",
       "<table border=\"1\" class=\"dataframe\">\n",
       "  <thead>\n",
       "    <tr style=\"text-align: right;\">\n",
       "      <th></th>\n",
       "      <th>name</th>\n",
       "      <th>disease</th>\n",
       "    </tr>\n",
       "  </thead>\n",
       "  <tbody>\n",
       "    <tr>\n",
       "      <th>0</th>\n",
       "      <td>hsa-miR-40</td>\n",
       "      <td>Liver Cirrhosis</td>\n",
       "    </tr>\n",
       "    <tr>\n",
       "      <th>1</th>\n",
       "      <td>hsa-miR-29b-3p</td>\n",
       "      <td>Zika Virus Infection</td>\n",
       "    </tr>\n",
       "    <tr>\n",
       "      <th>2</th>\n",
       "      <td>hsa-miR-130b-3p</td>\n",
       "      <td>Wound Healing</td>\n",
       "    </tr>\n",
       "    <tr>\n",
       "      <th>3</th>\n",
       "      <td>hsa-miR-221-3p</td>\n",
       "      <td>Stomach Neoplasms</td>\n",
       "    </tr>\n",
       "    <tr>\n",
       "      <th>4</th>\n",
       "      <td>hsa-miR-497-5p</td>\n",
       "      <td>Pancreatic Neoplasms</td>\n",
       "    </tr>\n",
       "  </tbody>\n",
       "</table>\n",
       "</div>"
      ],
      "text/plain": [
       "              name               disease\n",
       "0       hsa-miR-40       Liver Cirrhosis\n",
       "1   hsa-miR-29b-3p  Zika Virus Infection\n",
       "2  hsa-miR-130b-3p         Wound Healing\n",
       "3   hsa-miR-221-3p     Stomach Neoplasms\n",
       "4   hsa-miR-497-5p  Pancreatic Neoplasms"
      ]
     },
     "execution_count": 8,
     "metadata": {},
     "output_type": "execute_result"
    }
   ],
   "source": [
    "df = df[[\"name\", \"disease\"]]\n",
    "\n",
    "df.head()"
   ]
  },
  {
   "cell_type": "markdown",
   "metadata": {},
   "source": [
    "# miRNAs"
   ]
  },
  {
   "cell_type": "code",
   "execution_count": 9,
   "metadata": {},
   "outputs": [
    {
     "data": {
      "text/html": [
       "<div>\n",
       "<style scoped>\n",
       "    .dataframe tbody tr th:only-of-type {\n",
       "        vertical-align: middle;\n",
       "    }\n",
       "\n",
       "    .dataframe tbody tr th {\n",
       "        vertical-align: top;\n",
       "    }\n",
       "\n",
       "    .dataframe thead th {\n",
       "        text-align: right;\n",
       "    }\n",
       "</style>\n",
       "<table border=\"1\" class=\"dataframe\">\n",
       "  <thead>\n",
       "    <tr style=\"text-align: right;\">\n",
       "      <th></th>\n",
       "      <th>name</th>\n",
       "      <th>sequence</th>\n",
       "    </tr>\n",
       "  </thead>\n",
       "  <tbody>\n",
       "    <tr>\n",
       "      <th>0</th>\n",
       "      <td>hsa-let-7a-5p</td>\n",
       "      <td>TGAGGTAGTAGGTTGTATAGTT</td>\n",
       "    </tr>\n",
       "    <tr>\n",
       "      <th>1</th>\n",
       "      <td>hsa-let-7b-5p</td>\n",
       "      <td>TGAGGTAGTAGGTTGTGTGGTT</td>\n",
       "    </tr>\n",
       "    <tr>\n",
       "      <th>2</th>\n",
       "      <td>hsa-let-7c-5p</td>\n",
       "      <td>TGAGGTAGTAGGTTGTATGGTT</td>\n",
       "    </tr>\n",
       "    <tr>\n",
       "      <th>3</th>\n",
       "      <td>hsa-let-7d-5p</td>\n",
       "      <td>AGAGGTAGTAGGTTGCATAGTT</td>\n",
       "    </tr>\n",
       "    <tr>\n",
       "      <th>4</th>\n",
       "      <td>hsa-let-7e-5p</td>\n",
       "      <td>TGAGGTAGGAGGTTGTATAGTT</td>\n",
       "    </tr>\n",
       "  </tbody>\n",
       "</table>\n",
       "</div>"
      ],
      "text/plain": [
       "            name                sequence\n",
       "0  hsa-let-7a-5p  TGAGGTAGTAGGTTGTATAGTT\n",
       "1  hsa-let-7b-5p  TGAGGTAGTAGGTTGTGTGGTT\n",
       "2  hsa-let-7c-5p  TGAGGTAGTAGGTTGTATGGTT\n",
       "3  hsa-let-7d-5p  AGAGGTAGTAGGTTGCATAGTT\n",
       "4  hsa-let-7e-5p  TGAGGTAGGAGGTTGTATAGTT"
      ]
     },
     "execution_count": 9,
     "metadata": {},
     "output_type": "execute_result"
    }
   ],
   "source": [
    "df2 = pd.read_csv(\"data/targetscan.csv\", usecols=[\"name\", \"sequence\"])\n",
    "\n",
    "df2.head()"
   ]
  },
  {
   "cell_type": "code",
   "execution_count": 13,
   "metadata": {},
   "outputs": [
    {
     "data": {
      "text/html": [
       "<div>\n",
       "<style scoped>\n",
       "    .dataframe tbody tr th:only-of-type {\n",
       "        vertical-align: middle;\n",
       "    }\n",
       "\n",
       "    .dataframe tbody tr th {\n",
       "        vertical-align: top;\n",
       "    }\n",
       "\n",
       "    .dataframe thead th {\n",
       "        text-align: right;\n",
       "    }\n",
       "</style>\n",
       "<table border=\"1\" class=\"dataframe\">\n",
       "  <thead>\n",
       "    <tr style=\"text-align: right;\">\n",
       "      <th></th>\n",
       "      <th>name</th>\n",
       "      <th>sequence</th>\n",
       "      <th>disease</th>\n",
       "    </tr>\n",
       "  </thead>\n",
       "  <tbody>\n",
       "    <tr>\n",
       "      <th>0</th>\n",
       "      <td>hsa-miR-4458</td>\n",
       "      <td>AGAGGTAGGTGTGGAAGAA</td>\n",
       "      <td>Breast Neoplasms</td>\n",
       "    </tr>\n",
       "    <tr>\n",
       "      <th>1</th>\n",
       "      <td>hsa-miR-4458</td>\n",
       "      <td>AGAGGTAGGTGTGGAAGAA</td>\n",
       "      <td>Stomach Neoplasms</td>\n",
       "    </tr>\n",
       "    <tr>\n",
       "      <th>2</th>\n",
       "      <td>hsa-miR-4458</td>\n",
       "      <td>AGAGGTAGGTGTGGAAGAA</td>\n",
       "      <td>Carcinoma, Non-Small-Cell Lung</td>\n",
       "    </tr>\n",
       "    <tr>\n",
       "      <th>3</th>\n",
       "      <td>hsa-miR-4458</td>\n",
       "      <td>AGAGGTAGGTGTGGAAGAA</td>\n",
       "      <td>Breast Neoplasms</td>\n",
       "    </tr>\n",
       "    <tr>\n",
       "      <th>4</th>\n",
       "      <td>hsa-miR-4458</td>\n",
       "      <td>AGAGGTAGGTGTGGAAGAA</td>\n",
       "      <td>Leukemia, Myeloid, Acute</td>\n",
       "    </tr>\n",
       "  </tbody>\n",
       "</table>\n",
       "</div>"
      ],
      "text/plain": [
       "           name             sequence                         disease\n",
       "0  hsa-miR-4458  AGAGGTAGGTGTGGAAGAA                Breast Neoplasms\n",
       "1  hsa-miR-4458  AGAGGTAGGTGTGGAAGAA               Stomach Neoplasms\n",
       "2  hsa-miR-4458  AGAGGTAGGTGTGGAAGAA  Carcinoma, Non-Small-Cell Lung\n",
       "3  hsa-miR-4458  AGAGGTAGGTGTGGAAGAA                Breast Neoplasms\n",
       "4  hsa-miR-4458  AGAGGTAGGTGTGGAAGAA        Leukemia, Myeloid, Acute"
      ]
     },
     "execution_count": 13,
     "metadata": {},
     "output_type": "execute_result"
    }
   ],
   "source": [
    "merged_df = df2.merge(df, on=\"name\", how=\"inner\")\n",
    "\n",
    "merged_df.head()"
   ]
  },
  {
   "cell_type": "code",
   "execution_count": 11,
   "metadata": {},
   "outputs": [
    {
     "data": {
      "text/plain": [
       "53375"
      ]
     },
     "execution_count": 11,
     "metadata": {},
     "output_type": "execute_result"
    }
   ],
   "source": [
    "len(df)"
   ]
  },
  {
   "cell_type": "code",
   "execution_count": 14,
   "metadata": {},
   "outputs": [
    {
     "data": {
      "text/plain": [
       "13414"
      ]
     },
     "execution_count": 14,
     "metadata": {},
     "output_type": "execute_result"
    }
   ],
   "source": [
    "len(merged_df)"
   ]
  },
  {
   "cell_type": "code",
   "execution_count": 15,
   "metadata": {},
   "outputs": [
    {
     "data": {
      "text/html": [
       "<div>\n",
       "<style scoped>\n",
       "    .dataframe tbody tr th:only-of-type {\n",
       "        vertical-align: middle;\n",
       "    }\n",
       "\n",
       "    .dataframe tbody tr th {\n",
       "        vertical-align: top;\n",
       "    }\n",
       "\n",
       "    .dataframe thead th {\n",
       "        text-align: right;\n",
       "    }\n",
       "</style>\n",
       "<table border=\"1\" class=\"dataframe\">\n",
       "  <thead>\n",
       "    <tr style=\"text-align: right;\">\n",
       "      <th></th>\n",
       "      <th>name</th>\n",
       "      <th>sequence</th>\n",
       "      <th>disease</th>\n",
       "    </tr>\n",
       "  </thead>\n",
       "  <tbody>\n",
       "    <tr>\n",
       "      <th>0</th>\n",
       "      <td>hsa-miR-4458</td>\n",
       "      <td>AGAGGTAGGTGTGGAAGAA</td>\n",
       "      <td>Breast Neoplasms</td>\n",
       "    </tr>\n",
       "    <tr>\n",
       "      <th>1</th>\n",
       "      <td>hsa-miR-4458</td>\n",
       "      <td>AGAGGTAGGTGTGGAAGAA</td>\n",
       "      <td>Stomach Neoplasms</td>\n",
       "    </tr>\n",
       "    <tr>\n",
       "      <th>2</th>\n",
       "      <td>hsa-miR-4458</td>\n",
       "      <td>AGAGGTAGGTGTGGAAGAA</td>\n",
       "      <td>Carcinoma, Non-Small-Cell Lung</td>\n",
       "    </tr>\n",
       "    <tr>\n",
       "      <th>4</th>\n",
       "      <td>hsa-miR-4458</td>\n",
       "      <td>AGAGGTAGGTGTGGAAGAA</td>\n",
       "      <td>Leukemia, Myeloid, Acute</td>\n",
       "    </tr>\n",
       "    <tr>\n",
       "      <th>6</th>\n",
       "      <td>hsa-miR-4458</td>\n",
       "      <td>AGAGGTAGGTGTGGAAGAA</td>\n",
       "      <td>gastric adenocarcinoma</td>\n",
       "    </tr>\n",
       "  </tbody>\n",
       "</table>\n",
       "</div>"
      ],
      "text/plain": [
       "           name             sequence                         disease\n",
       "0  hsa-miR-4458  AGAGGTAGGTGTGGAAGAA                Breast Neoplasms\n",
       "1  hsa-miR-4458  AGAGGTAGGTGTGGAAGAA               Stomach Neoplasms\n",
       "2  hsa-miR-4458  AGAGGTAGGTGTGGAAGAA  Carcinoma, Non-Small-Cell Lung\n",
       "4  hsa-miR-4458  AGAGGTAGGTGTGGAAGAA        Leukemia, Myeloid, Acute\n",
       "6  hsa-miR-4458  AGAGGTAGGTGTGGAAGAA          gastric adenocarcinoma"
      ]
     },
     "execution_count": 15,
     "metadata": {},
     "output_type": "execute_result"
    }
   ],
   "source": [
    "merged_df = merged_df.drop_duplicates()\n",
    "\n",
    "merged_df.head()"
   ]
  },
  {
   "cell_type": "code",
   "execution_count": 16,
   "metadata": {},
   "outputs": [
    {
     "data": {
      "text/plain": [
       "8384"
      ]
     },
     "execution_count": 16,
     "metadata": {},
     "output_type": "execute_result"
    }
   ],
   "source": [
    "len(merged_df)"
   ]
  },
  {
   "cell_type": "code",
   "execution_count": 17,
   "metadata": {},
   "outputs": [],
   "source": [
    "merged_df.to_csv(\"data/data.csv\", index=False)\n"
   ]
  }
 ],
 "metadata": {
  "kernelspec": {
   "display_name": "di504-WtPufxRE-py3.11",
   "language": "python",
   "name": "python3"
  },
  "language_info": {
   "codemirror_mode": {
    "name": "ipython",
    "version": 3
   },
   "file_extension": ".py",
   "mimetype": "text/x-python",
   "name": "python",
   "nbconvert_exporter": "python",
   "pygments_lexer": "ipython3",
   "version": "3.11.6"
  }
 },
 "nbformat": 4,
 "nbformat_minor": 2
}
